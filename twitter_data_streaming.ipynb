{
 "cells": [
  {
   "cell_type": "markdown",
   "metadata": {},
   "source": [
    "### Big Data Project\n",
    "##### Pradyumna Jangiti Ramchander - pj27\n",
    "##### Hardik Rajendra Pakhale - hp495\n",
    "##### Rakesh Reddy Nareddy- rn68\n",
    "##### Illavenil Prabhakaran- ip223"
   ]
  },
  {
   "cell_type": "code",
   "execution_count": 1,
   "metadata": {},
   "outputs": [],
   "source": [
    "import tweepy\n",
    "from tweepy import OAuthHandler\n",
    "from tweepy import Stream\n",
    "from tweepy.streaming import StreamListener\n",
    "import socket\n",
    "import json"
   ]
  },
  {
   "cell_type": "code",
   "execution_count": 2,
   "metadata": {},
   "outputs": [],
   "source": [
    "import numpy as np\n",
    "import pandas as pd"
   ]
  },
  {
   "cell_type": "code",
   "execution_count": 3,
   "metadata": {},
   "outputs": [],
   "source": [
    "access_token = \"189441725-fp2FjTRyW62ftg2yGp4nBUPazQvKZBzS7LG9dEJE\"\n",
    "access_secret = \"F3GT0LW8m4x27UuyLsEfjmvIQUvTKrQzLyxxnDiLvOJBj\"\n",
    "consumer_key = \"9rmQqBmcEJkNEkjSadQwBVswx\"\n",
    "consumer_secret = \"p7YrR3Wohr1oXRwd94JHYVC3eFla3ADS0CrmRczDrsvCXIczS3\""
   ]
  },
  {
   "cell_type": "code",
   "execution_count": 4,
   "metadata": {},
   "outputs": [],
   "source": [
    "auth = tweepy.OAuthHandler(consumer_key, consumer_secret)\n",
    "auth.set_access_token(access_token, access_secret)\n",
    "api = tweepy.API(auth)"
   ]
  },
  {
   "cell_type": "code",
   "execution_count": 15,
   "metadata": {},
   "outputs": [
    {
     "name": "stdout",
     "output_type": "stream",
     "text": [
      "RT @MahuaMoitra: If Covid vaccine certificate has Hon’ble PM’s photo, does death certificate of those dying of no oxygen also carry his pho…\n",
      "RT @_taylorhudak: What is the risk/benefit to receiving the Covid-19 vaccine? Dr. Sucharit Bhakdi, a medical doctor and medical microbiolog…\n",
      "RT @rahaeli: The problem with worldwide COVID vaccine access is not the patents: the vaccines have all been sequenced, the exact contents a…\n",
      "FDA and CDC Lift Recommended Pause on Johnson &amp; Johnson (Janssen) COVID-19 Vaccine Use @US...… https://t.co/L8rL7Ds5Jv\n",
      "RT @PeterHotez: My message all along: mRNA is only a good vaccine after 2 doses.  In a single dose, both virus neutralizing antibodies and…\n",
      "RT @PIBBhubaneswar: Are you 18+?\n",
      "\n",
      "❓Here is how you can register on Co-WIN Portal and get the #Covid vaccine!\n",
      "\n",
      "#LargestVaccineDrive #Unite2F…\n",
      "RT @JoshMatlow: For so many, the COVID-19 vaccine roll out has been confusing &amp; frustrating to navigate. It’s felt more like the Hunger Gam…\n",
      "RT @gorskon: \"Death hunters\" is actually a good term to describe antivaxxers looking for stories of death after #CovidVaccine in order to i…\n",
      "RT @Liz_Wheeler: Is this even legal?? Hospital to fire employees who decline COVID vax.\n",
      "\n",
      "https://t.co/uAF7PJC7SR\n",
      "RT @NewsfromScience: Researchers in Germany and Canada have added provocative new details to their proposal for how the #COVID19 vaccine ma…\n",
      "RT @PeterHotez: My message all along: mRNA is only a good vaccine after 2 doses.  In a single dose, both virus neutralizing antibodies and…\n",
      "RT @republic: US agrees to export COVID vaccine raw materials to India, lifts embargo amid rising cases https://t.co/4g55h3ZIl1\n",
      "RT @Poulin2012: En Inde, Vivek était un acteur Tamul très influent auprès de la population. Il a été vacciné pour faire la promotion du vac…\n"
     ]
    }
   ],
   "source": [
    "for tweet in api.search('covid vaccine'):\n",
    "    print(tweet.text)"
   ]
  },
  {
   "cell_type": "code",
   "execution_count": 16,
   "metadata": {},
   "outputs": [],
   "source": [
    "data = pd.DataFrame(columns = ['User', 'User_statuses_count', \n",
    "                             'user_followers','fav_count','User_location','Tweets',])"
   ]
  },
  {
   "cell_type": "code",
   "execution_count": 17,
   "metadata": {},
   "outputs": [],
   "source": [
    "def stream(data, file_name):\n",
    "    i = 0\n",
    "    for tweet in tweepy.Cursor(api.search, q=data, count=100000, lang='en').items():\n",
    "        print(i, end='\\r')\n",
    "        data.loc[i, 'User'] = tweet.user.name\n",
    "        data.loc[i, 'User_statuses_count'] = tweet.user.statuses_count\n",
    "        data.loc[i, 'user_followers'] = tweet.user.followers_count\n",
    "        data.loc[i, 'fav_count'] = tweet.favorite_count\n",
    "        data.loc[i, 'User_location'] = tweet.user.location\n",
    "        data.loc[i, 'Tweets'] = tweet.text\n",
    "        \n",
    "        \n",
    "        data.to_csv('{}.csv'.format(file_name))\n",
    "        i+=1\n",
    "        if i == 200:\n",
    "            break\n",
    "        else:\n",
    "            pass"
   ]
  },
  {
   "cell_type": "code",
   "execution_count": 18,
   "metadata": {},
   "outputs": [
    {
     "name": "stdout",
     "output_type": "stream",
     "text": [
      "199\r"
     ]
    }
   ],
   "source": [
    "stream(data = ['joe biden'], file_name = 'test_joebiden200')\n"
   ]
  },
  {
   "cell_type": "code",
   "execution_count": 19,
   "metadata": {
    "scrolled": true
   },
   "outputs": [
    {
     "data": {
      "text/html": [
       "<div>\n",
       "<style scoped>\n",
       "    .dataframe tbody tr th:only-of-type {\n",
       "        vertical-align: middle;\n",
       "    }\n",
       "\n",
       "    .dataframe tbody tr th {\n",
       "        vertical-align: top;\n",
       "    }\n",
       "\n",
       "    .dataframe thead th {\n",
       "        text-align: right;\n",
       "    }\n",
       "</style>\n",
       "<table border=\"1\" class=\"dataframe\">\n",
       "  <thead>\n",
       "    <tr style=\"text-align: right;\">\n",
       "      <th></th>\n",
       "      <th>User</th>\n",
       "      <th>User_statuses_count</th>\n",
       "      <th>user_followers</th>\n",
       "      <th>fav_count</th>\n",
       "      <th>User_location</th>\n",
       "      <th>Tweets</th>\n",
       "    </tr>\n",
       "  </thead>\n",
       "  <tbody>\n",
       "    <tr>\n",
       "      <th>0</th>\n",
       "      <td>sheila rodgers</td>\n",
       "      <td>86815</td>\n",
       "      <td>109</td>\n",
       "      <td>0</td>\n",
       "      <td></td>\n",
       "      <td>RT @peterbakernyt: A majority of Americans in ...</td>\n",
       "    </tr>\n",
       "    <tr>\n",
       "      <th>1</th>\n",
       "      <td>badbonz</td>\n",
       "      <td>77741</td>\n",
       "      <td>2247</td>\n",
       "      <td>0</td>\n",
       "      <td>south of clueless</td>\n",
       "      <td>RT @AdamParkhomenko: Donald Trump never even s...</td>\n",
       "    </tr>\n",
       "    <tr>\n",
       "      <th>2</th>\n",
       "      <td>Deb Max</td>\n",
       "      <td>40462</td>\n",
       "      <td>101</td>\n",
       "      <td>0</td>\n",
       "      <td></td>\n",
       "      <td>RT @davidmweissman: The way MSM is complaining...</td>\n",
       "    </tr>\n",
       "    <tr>\n",
       "      <th>3</th>\n",
       "      <td>Nandini</td>\n",
       "      <td>71726</td>\n",
       "      <td>148</td>\n",
       "      <td>0</td>\n",
       "      <td></td>\n",
       "      <td>RT @Soumyadipta: President Joe Biden and VP Ka...</td>\n",
       "    </tr>\n",
       "    <tr>\n",
       "      <th>4</th>\n",
       "      <td>Roundtown Girl Again</td>\n",
       "      <td>19448</td>\n",
       "      <td>1327</td>\n",
       "      <td>0</td>\n",
       "      <td></td>\n",
       "      <td>Larry Kudlow: No! No! NOT PLANT BASED BEER! Jo...</td>\n",
       "    </tr>\n",
       "  </tbody>\n",
       "</table>\n",
       "</div>"
      ],
      "text/plain": [
       "                   User User_statuses_count user_followers fav_count  \\\n",
       "0        sheila rodgers               86815            109         0   \n",
       "1               badbonz               77741           2247         0   \n",
       "2               Deb Max               40462            101         0   \n",
       "3               Nandini               71726            148         0   \n",
       "4  Roundtown Girl Again               19448           1327         0   \n",
       "\n",
       "       User_location                                             Tweets  \n",
       "0                     RT @peterbakernyt: A majority of Americans in ...  \n",
       "1  south of clueless  RT @AdamParkhomenko: Donald Trump never even s...  \n",
       "2                     RT @davidmweissman: The way MSM is complaining...  \n",
       "3                     RT @Soumyadipta: President Joe Biden and VP Ka...  \n",
       "4                     Larry Kudlow: No! No! NOT PLANT BASED BEER! Jo...  "
      ]
     },
     "execution_count": 19,
     "metadata": {},
     "output_type": "execute_result"
    }
   ],
   "source": [
    "data.head()"
   ]
  }
 ],
 "metadata": {
  "kernelspec": {
   "display_name": "Python 3 (ipykernel)",
   "language": "python",
   "name": "python3"
  },
  "language_info": {
   "codemirror_mode": {
    "name": "ipython",
    "version": 3
   },
   "file_extension": ".py",
   "mimetype": "text/x-python",
   "name": "python",
   "nbconvert_exporter": "python",
   "pygments_lexer": "ipython3",
   "version": "3.9.5"
  }
 },
 "nbformat": 4,
 "nbformat_minor": 4
}
